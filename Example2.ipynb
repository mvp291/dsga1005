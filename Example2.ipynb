{
 "cells": [
  {
   "cell_type": "code",
   "execution_count": 107,
   "metadata": {
    "collapsed": false
   },
   "outputs": [
    {
     "ename": "ImportError",
     "evalue": "cannot import name division",
     "output_type": "error",
     "traceback": [
      "\u001b[0;31m---------------------------------------------------------------------------\u001b[0m",
      "\u001b[0;31mImportError\u001b[0m                               Traceback (most recent call last)",
      "\u001b[0;32m<ipython-input-107-446e1e082070>\u001b[0m in \u001b[0;36m<module>\u001b[0;34m()\u001b[0m\n\u001b[1;32m      7\u001b[0m \u001b[0;32mimport\u001b[0m \u001b[0mcode\u001b[0m\u001b[0;34m.\u001b[0m\u001b[0mhsic\u001b[0m \u001b[0;32mas\u001b[0m \u001b[0mhs\u001b[0m\u001b[0;34m\u001b[0m\u001b[0m\n\u001b[1;32m      8\u001b[0m \u001b[0;32mimport\u001b[0m \u001b[0mpandas\u001b[0m \u001b[0;32mas\u001b[0m \u001b[0mpd\u001b[0m\u001b[0;34m\u001b[0m\u001b[0m\n\u001b[0;32m----> 9\u001b[0;31m \u001b[0;32mfrom\u001b[0m \u001b[0mfuture\u001b[0m \u001b[0;32mimport\u001b[0m \u001b[0mdivision\u001b[0m\u001b[0;34m\u001b[0m\u001b[0m\n\u001b[0m",
      "\u001b[0;31mImportError\u001b[0m: cannot import name division"
     ]
    }
   ],
   "source": [
    "import readline\n",
    "import rpy2.robjects\n",
    "import code.independence_test as it\n",
    "import code.additive_noise as an\n",
    "import numpy as np\n",
    "import numpy.random as rn\n",
    "import code.hsic as hs\n",
    "import pandas as pd"
   ]
  },
  {
   "cell_type": "code",
   "execution_count": null,
   "metadata": {
    "collapsed": false
   },
   "outputs": [],
   "source": [
    "n=200\n",
    "uni = rn.uniform(0,10,n)\n",
    "exp = rn.exponential(7,n)\n",
    "gamma = rn.gamma(10,1,n)\n",
    "log = rn.logistic(10,0.5,n)\n",
    "n_Y = np.random.uniform(0,0.01,n)\n",
    "n_L = np.random.uniform(0,0.01,n)\n",
    "#Y = uni + exp + gamma + log + n_Y\n",
    "Y = gamma + n_Y\n",
    "leak = Y + n_L"
   ]
  },
  {
   "cell_type": "code",
   "execution_count": null,
   "metadata": {
    "collapsed": false
   },
   "outputs": [],
   "source": [
    "X = np.stack([gamma, leak, log],axis=1)"
   ]
  },
  {
   "cell_type": "code",
   "execution_count": null,
   "metadata": {
    "collapsed": false
   },
   "outputs": [],
   "source": [
    "X = pd.DataFrame(X, columns=['cause', 'leak', 'independent'])"
   ]
  },
  {
   "cell_type": "code",
   "execution_count": null,
   "metadata": {
    "collapsed": false
   },
   "outputs": [],
   "source": [
    "an.ANM_algorithm(X, Y, 'py')"
   ]
  },
  {
   "cell_type": "code",
   "execution_count": 164,
   "metadata": {
    "collapsed": true
   },
   "outputs": [],
   "source": [
    "SIZES = [200] * 2"
   ]
  },
  {
   "cell_type": "code",
   "execution_count": 172,
   "metadata": {
    "collapsed": false
   },
   "outputs": [],
   "source": [
    "# Distributions\n",
    "D = {'standard_normal': lambda: rn.randn(SIZE),\n",
    "     'uniform': lambda: rn.uniform(0, 1, SIZE)\n",
    "}\n",
    "\n",
    "# Function transformations\n",
    "non_gaussian_noise = lambda: rn.uniform(-0.001, 0.001, SIZE)\n",
    "gaussian_noise = lambda: rn.normal(0, 0.001, SIZE)\n",
    "\n",
    "F = {\n",
    "    'identity': lambda x: x + non_gaussian_noise(),\n",
    "    'scale': lambda x: (rn.randint(1, 10) * rn.randn(1) * x) + non_gaussian_noise(),\n",
    "    'exp': lambda x: np.exp(x.astype('float')) + gaussian_noise()\n",
    "    #'square': lambda x: x ** 2,\n",
    "    #'cube': lambda x: x ** 3,\n",
    "}\n",
    "\n",
    "def add(a, b):\n",
    "    if a is None:\n",
    "        a = np.zeros_like(a)\n",
    "    return a + b\n",
    "\n",
    "def sub(a, b):\n",
    "    if a is None:\n",
    "        a = np.zeros_like(a)\n",
    "    return a - b\n",
    "\n",
    "def mul(a, b):\n",
    "    if a is None:\n",
    "        a = np.ones_like(a)\n",
    "    return a * b\n",
    "\n",
    "def div(a, b):\n",
    "    if a is None:\n",
    "        a = np.ones_like(a)\n",
    "    return a / b\n",
    "\n",
    "# Possible combinations of features\n",
    "C = {\n",
    "    '+': add\n",
    "    #'-': sub,\n",
    "    #'*': mul,\n",
    "    #'/': div\n",
    "}"
   ]
  },
  {
   "cell_type": "code",
   "execution_count": 173,
   "metadata": {
    "collapsed": true
   },
   "outputs": [],
   "source": [
    "tests = pd.DataFrame()\n",
    "tests_features = []\n",
    "tests_ys = []"
   ]
  },
  {
   "cell_type": "code",
   "execution_count": 174,
   "metadata": {
    "collapsed": false
   },
   "outputs": [
    {
     "name": "stdout",
     "output_type": "stream",
     "text": [
      "2 1 1\n",
      "Number of line searches 28\n",
      "Number of line searches 27\n",
      "Number of line searches 40\n",
      "Number of line searches 40\n",
      "Number of line searches 19\n",
      "Number of line searches 27\n",
      "2 1 1\n",
      "Warning: adding jitter of 2.2435122546e+06 to diagnol of kernel matrix for numerical stability\n",
      "Warning: adding jitter of 2.2435122546e+07 to diagnol of kernel matrix for numerical stability\n",
      "Warning: adding jitter of 2.2435122546e+08 to diagnol of kernel matrix for numerical stability\n",
      "Warning: adding jitter of 2.2435122546e+09 to diagnol of kernel matrix for numerical stability\n",
      "Warning: adding jitter of 2.2435122546e+10 to diagnol of kernel matrix for numerical stability\n",
      "Warning: adding jitter of 1.3106673513e+06 to diagnol of kernel matrix for numerical stability\n",
      "Warning: adding jitter of 1.3106673513e+07 to diagnol of kernel matrix for numerical stability\n",
      "Warning: adding jitter of 1.3106673513e+08 to diagnol of kernel matrix for numerical stability\n",
      "Warning: adding jitter of 1.3106673513e+09 to diagnol of kernel matrix for numerical stability\n",
      "Warning: adding jitter of 1.3106673513e+10 to diagnol of kernel matrix for numerical stability\n",
      "Warning: adding jitter of 4.4172538745e+06 to diagnol of kernel matrix for numerical stability\n",
      "Warning: adding jitter of 4.4172538745e+07 to diagnol of kernel matrix for numerical stability\n",
      "Warning: adding jitter of 4.4172538745e+08 to diagnol of kernel matrix for numerical stability\n",
      "Warning: adding jitter of 4.4172538745e+09 to diagnol of kernel matrix for numerical stability\n",
      "Warning: adding jitter of 4.4172538745e+10 to diagnol of kernel matrix for numerical stability\n",
      "Warning: adding jitter of 3.2703951561e+05 to diagnol of kernel matrix for numerical stability\n",
      "Warning: adding jitter of 3.2703951561e+06 to diagnol of kernel matrix for numerical stability\n",
      "Warning: adding jitter of 3.2703951561e+07 to diagnol of kernel matrix for numerical stability\n",
      "Warning: adding jitter of 3.2703951561e+08 to diagnol of kernel matrix for numerical stability\n",
      "Warning: adding jitter of 3.2703951561e+09 to diagnol of kernel matrix for numerical stability\n",
      "Warning: adding jitter of 1.7597096446e+08 to diagnol of kernel matrix for numerical stability\n",
      "Warning: adding jitter of 1.7597096446e+09 to diagnol of kernel matrix for numerical stability\n",
      "Warning: adding jitter of 1.7597096446e+10 to diagnol of kernel matrix for numerical stability\n",
      "Warning: adding jitter of 1.7597096446e+11 to diagnol of kernel matrix for numerical stability\n",
      "Warning: adding jitter of 1.7597096446e+12 to diagnol of kernel matrix for numerical stability\n",
      "Number of line searches 9\n",
      "Warning: adding jitter of 5.6530807336e+10 to diagnol of kernel matrix for numerical stability\n",
      "Warning: adding jitter of 5.6530807336e+11 to diagnol of kernel matrix for numerical stability\n",
      "Warning: adding jitter of 5.6530807336e+12 to diagnol of kernel matrix for numerical stability\n",
      "Warning: adding jitter of 5.6530807336e+13 to diagnol of kernel matrix for numerical stability\n",
      "Warning: adding jitter of 5.6530807336e+14 to diagnol of kernel matrix for numerical stability\n",
      "Warning: adding jitter of 4.3535341380e+05 to diagnol of kernel matrix for numerical stability\n",
      "Warning: adding jitter of 4.3535341380e+06 to diagnol of kernel matrix for numerical stability\n",
      "Warning: adding jitter of 4.3535341380e+07 to diagnol of kernel matrix for numerical stability\n",
      "Warning: adding jitter of 4.3535341380e+08 to diagnol of kernel matrix for numerical stability\n",
      "Warning: adding jitter of 4.3535341380e+09 to diagnol of kernel matrix for numerical stability\n",
      "Number of line searches 11\n",
      "Warning: adding jitter of 1.3351730283e+20 to diagnol of kernel matrix for numerical stability\n",
      "Warning: adding jitter of 1.3351730283e+21 to diagnol of kernel matrix for numerical stability\n",
      "Warning: adding jitter of 1.3351730283e+22 to diagnol of kernel matrix for numerical stability\n",
      "Warning: adding jitter of 1.3351730283e+23 to diagnol of kernel matrix for numerical stability\n",
      "Warning: adding jitter of 1.3351730283e+24 to diagnol of kernel matrix for numerical stability\n",
      "Warning: adding jitter of 7.4410013078e+11 to diagnol of kernel matrix for numerical stability\n",
      "Warning: adding jitter of 7.4410013078e+12 to diagnol of kernel matrix for numerical stability\n",
      "Warning: adding jitter of 7.4410013078e+13 to diagnol of kernel matrix for numerical stability\n",
      "Warning: adding jitter of 7.4410013078e+14 to diagnol of kernel matrix for numerical stability\n",
      "Warning: adding jitter of 7.4410013078e+15 to diagnol of kernel matrix for numerical stability\n",
      "Warning: adding jitter of 5.5549262320e+07 to diagnol of kernel matrix for numerical stability\n",
      "Warning: adding jitter of 5.5549262320e+08 to diagnol of kernel matrix for numerical stability\n",
      "Warning: adding jitter of 5.5549262320e+09 to diagnol of kernel matrix for numerical stability\n",
      "Warning: adding jitter of 5.5549262320e+10 to diagnol of kernel matrix for numerical stability\n",
      "Warning: adding jitter of 5.5549262320e+11 to diagnol of kernel matrix for numerical stability\n",
      "Warning: adding jitter of 4.7995636285e+05 to diagnol of kernel matrix for numerical stability\n",
      "Warning: adding jitter of 4.7995636285e+06 to diagnol of kernel matrix for numerical stability\n",
      "Warning: adding jitter of 4.7995636285e+07 to diagnol of kernel matrix for numerical stability\n",
      "Warning: adding jitter of 4.7995636285e+08 to diagnol of kernel matrix for numerical stability\n",
      "Warning: adding jitter of 4.7995636285e+09 to diagnol of kernel matrix for numerical stability\n",
      "Warning: adding jitter of 1.4833010536e+06 to diagnol of kernel matrix for numerical stability\n",
      "Warning: adding jitter of 1.4833010536e+07 to diagnol of kernel matrix for numerical stability\n",
      "Warning: adding jitter of 1.4833010536e+08 to diagnol of kernel matrix for numerical stability\n",
      "Warning: adding jitter of 1.4833010536e+09 to diagnol of kernel matrix for numerical stability\n",
      "Warning: adding jitter of 1.4833010536e+10 to diagnol of kernel matrix for numerical stability\n",
      "Warning: adding jitter of 7.6493773228e+05 to diagnol of kernel matrix for numerical stability\n",
      "Warning: adding jitter of 7.6493773228e+06 to diagnol of kernel matrix for numerical stability\n",
      "Warning: adding jitter of 7.6493773228e+07 to diagnol of kernel matrix for numerical stability\n",
      "Warning: adding jitter of 7.6493773228e+08 to diagnol of kernel matrix for numerical stability\n",
      "Warning: adding jitter of 7.6493773228e+09 to diagnol of kernel matrix for numerical stability\n",
      "Warning: adding jitter of 1.3295201292e+06 to diagnol of kernel matrix for numerical stability\n",
      "Warning: adding jitter of 1.3295201292e+07 to diagnol of kernel matrix for numerical stability\n",
      "Warning: adding jitter of 1.3295201292e+08 to diagnol of kernel matrix for numerical stability\n",
      "Warning: adding jitter of 1.3295201292e+09 to diagnol of kernel matrix for numerical stability\n",
      "Warning: adding jitter of 1.3295201292e+10 to diagnol of kernel matrix for numerical stability\n",
      "Warning: adding jitter of 1.0279841501e+06 to diagnol of kernel matrix for numerical stability\n",
      "Warning: adding jitter of 1.0279841501e+07 to diagnol of kernel matrix for numerical stability\n",
      "Warning: adding jitter of 1.0279841501e+08 to diagnol of kernel matrix for numerical stability\n",
      "Warning: adding jitter of 1.0279841501e+09 to diagnol of kernel matrix for numerical stability\n",
      "Warning: adding jitter of 1.0279841501e+10 to diagnol of kernel matrix for numerical stability\n",
      "Warning: adding jitter of 1.1378484758e+06 to diagnol of kernel matrix for numerical stability\n",
      "Warning: adding jitter of 1.1378484758e+07 to diagnol of kernel matrix for numerical stability\n",
      "Warning: adding jitter of 1.1378484758e+08 to diagnol of kernel matrix for numerical stability\n",
      "Warning: adding jitter of 1.1378484758e+09 to diagnol of kernel matrix for numerical stability\n",
      "Warning: adding jitter of 1.1378484758e+10 to diagnol of kernel matrix for numerical stability\n",
      "Warning: adding jitter of 9.4295341566e+05 to diagnol of kernel matrix for numerical stability\n",
      "Warning: adding jitter of 9.4295341566e+06 to diagnol of kernel matrix for numerical stability\n",
      "Warning: adding jitter of 9.4295341566e+07 to diagnol of kernel matrix for numerical stability\n",
      "Warning: adding jitter of 9.4295341566e+08 to diagnol of kernel matrix for numerical stability\n",
      "Warning: adding jitter of 9.4295341566e+09 to diagnol of kernel matrix for numerical stability\n",
      "Warning: adding jitter of 1.2272434583e+06 to diagnol of kernel matrix for numerical stability\n",
      "Warning: adding jitter of 1.2272434583e+07 to diagnol of kernel matrix for numerical stability\n",
      "Warning: adding jitter of 1.2272434583e+08 to diagnol of kernel matrix for numerical stability\n",
      "Warning: adding jitter of 1.2272434583e+09 to diagnol of kernel matrix for numerical stability\n",
      "Warning: adding jitter of 1.2272434583e+10 to diagnol of kernel matrix for numerical stability\n",
      "Warning: adding jitter of 8.8703012121e+05 to diagnol of kernel matrix for numerical stability\n",
      "Warning: adding jitter of 8.8703012121e+06 to diagnol of kernel matrix for numerical stability\n",
      "Warning: adding jitter of 8.8703012121e+07 to diagnol of kernel matrix for numerical stability\n",
      "Warning: adding jitter of 8.8703012121e+08 to diagnol of kernel matrix for numerical stability\n",
      "Warning: adding jitter of 8.8703012121e+09 to diagnol of kernel matrix for numerical stability\n",
      "Number of line searches 9\n",
      "Warning: adding jitter of 5.0736045034e+16 to diagnol of kernel matrix for numerical stability\n",
      "Warning: adding jitter of 5.0736045034e+17 to diagnol of kernel matrix for numerical stability\n",
      "Warning: adding jitter of 5.0736045034e+18 to diagnol of kernel matrix for numerical stability\n",
      "Warning: adding jitter of 5.0736045034e+19 to diagnol of kernel matrix for numerical stability\n",
      "Warning: adding jitter of 5.0736045034e+20 to diagnol of kernel matrix for numerical stability\n",
      "Warning: adding jitter of 6.2255150491e+07 to diagnol of kernel matrix for numerical stability\n",
      "Warning: adding jitter of 6.2255150491e+08 to diagnol of kernel matrix for numerical stability\n",
      "Warning: adding jitter of 6.2255150491e+09 to diagnol of kernel matrix for numerical stability\n",
      "Warning: adding jitter of 6.2255150491e+10 to diagnol of kernel matrix for numerical stability\n",
      "Warning: adding jitter of 6.2255150491e+11 to diagnol of kernel matrix for numerical stability\n",
      "Warning: adding jitter of 2.4127179360e+05 to diagnol of kernel matrix for numerical stability\n",
      "Warning: adding jitter of 2.4127179360e+06 to diagnol of kernel matrix for numerical stability\n",
      "Warning: adding jitter of 2.4127179360e+07 to diagnol of kernel matrix for numerical stability\n",
      "Warning: adding jitter of 2.4127179360e+08 to diagnol of kernel matrix for numerical stability\n",
      "Warning: adding jitter of 2.4127179360e+09 to diagnol of kernel matrix for numerical stability\n",
      "Number of line searches 13\n",
      "Number of line searches 40\n",
      "Number of line searches 40\n"
     ]
    }
   ],
   "source": [
    "for iteration, SIZE in enumerate(SIZES):\n",
    "    # Total numbr of features\n",
    "    N = rn.randint(1, 5)\n",
    "\n",
    "    # Selected to form Y\n",
    "    if N > 1:\n",
    "        S = rn.randint(1, N)\n",
    "    else:\n",
    "        S = 1\n",
    "\n",
    "    L = 1\n",
    "\n",
    "    print N, S, L\n",
    "\n",
    "    # Generate Features\n",
    "    all_features = {}\n",
    "\n",
    "    for i in range(N):\n",
    "        dist = rn.randint(0, len(D))\n",
    "        feature = {}\n",
    "        feature['dist'] = D.keys()[dist]\n",
    "        feature['values'] = D.values()[dist]()\n",
    "        all_features['X_{}'.format(i)] = feature\n",
    "\n",
    "    # Aplly transformations to features\n",
    "    candidates = list(range(N))\n",
    "    rn.shuffle(candidates)\n",
    "\n",
    "    for i in candidates[:S]:\n",
    "        func = rn.randint(0, len(F))\n",
    "        feature = all_features['X_{}'.format(i)]\n",
    "        feature['func'] = F.keys()[func]\n",
    "        feature['transformed'] = F.values()[func](feature['values'])\n",
    "\n",
    "    Y = {\"comb\":\"Y = \",\n",
    "         \"values\": None}\n",
    "\n",
    "    for i in range(N):\n",
    "        if 'transformed' in all_features.values()[i].keys():\n",
    "            comb = rn.randint(0, len(C))\n",
    "            Y['comb'] += \"{} f({}) \".format(C.keys()[comb], all_features.keys()[i])\n",
    "            Y['values'] = C.values()[comb](Y['values'], all_features.values()[i]['transformed'])\n",
    "\n",
    "    for i in range(L):\n",
    "        feature = {}\n",
    "        func = rn.randint(0, len(F))\n",
    "        feature['func'] = F.keys()[func]\n",
    "        feature['values'] = F.values()[func](Y['values'])\n",
    "        all_features['leak_{}'.format(i)] = feature\n",
    "    \n",
    "    columns = [name for name in all_features.keys()]\n",
    "    causes = [i for i, f in enumerate(all_features.values()) if f.get('transformed', np.array([])).shape[0] > 0]\n",
    "    for j in range(len(columns)):\n",
    "        if j in causes:\n",
    "            columns[j] = 'cause_' + columns[j]\n",
    "        elif not columns[j].startswith('leak'):\n",
    "            columns[j] = 'independent_' + columns[j]\n",
    "\n",
    "    tests_features.append(all_features)\n",
    "    tests_ys.append(Y)\n",
    "\n",
    "    final_data = np.stack([f['values'] for f in all_features.values()], axis=1).astype('float')\n",
    "    data = pd.DataFrame(final_data, columns=columns)\n",
    "    \n",
    "    res = an.ANM_algorithm(data, Y['values'].astype('float'))\n",
    "    \n",
    "    res['Vars'] = res.index + '_' + str(iteration)\n",
    "    res['Truth'] = [idx.split('_')[0] for idx in res.index]\n",
    "    \n",
    "    all_tests = all_tests.append(res, ignore_index=True)"
   ]
  },
  {
   "cell_type": "code",
   "execution_count": 175,
   "metadata": {
    "collapsed": false
   },
   "outputs": [
    {
     "data": {
      "text/html": [
       "<div>\n",
       "<table border=\"1\" class=\"dataframe\">\n",
       "  <thead>\n",
       "    <tr style=\"text-align: right;\">\n",
       "      <th></th>\n",
       "      <th>Direction</th>\n",
       "      <th>Rank</th>\n",
       "      <th>P_value Independence X and Y</th>\n",
       "      <th>Vars</th>\n",
       "      <th>Truth</th>\n",
       "    </tr>\n",
       "  </thead>\n",
       "  <tbody>\n",
       "    <tr>\n",
       "      <th>0</th>\n",
       "      <td>Leakage</td>\n",
       "      <td>2.26284e-05</td>\n",
       "      <td>2.58231e-08</td>\n",
       "      <td>cause_X_0_0</td>\n",
       "      <td>cause</td>\n",
       "    </tr>\n",
       "    <tr>\n",
       "      <th>1</th>\n",
       "      <td>Leakage</td>\n",
       "      <td>1.07409e-05</td>\n",
       "      <td>1.6989e-44</td>\n",
       "      <td>cause_X_1_0</td>\n",
       "      <td>cause</td>\n",
       "    </tr>\n",
       "    <tr>\n",
       "      <th>2</th>\n",
       "      <td>Independent</td>\n",
       "      <td>9.38215e-09</td>\n",
       "      <td>0.693891</td>\n",
       "      <td>independent_X_2_0</td>\n",
       "      <td>independent</td>\n",
       "    </tr>\n",
       "    <tr>\n",
       "      <th>3</th>\n",
       "      <td>No Leakage</td>\n",
       "      <td>-1.17319e-11</td>\n",
       "      <td>2.13043e-76</td>\n",
       "      <td>leak_0_0</td>\n",
       "      <td>leak</td>\n",
       "    </tr>\n",
       "    <tr>\n",
       "      <th>4</th>\n",
       "      <td>Leakage</td>\n",
       "      <td>1.02178e-12</td>\n",
       "      <td>2.6294e-70</td>\n",
       "      <td>cause_X_1_0</td>\n",
       "      <td>cause</td>\n",
       "    </tr>\n",
       "    <tr>\n",
       "      <th>5</th>\n",
       "      <td>Leakage</td>\n",
       "      <td>1.4754e-13</td>\n",
       "      <td>2.63461e-70</td>\n",
       "      <td>leak_0_0</td>\n",
       "      <td>leak</td>\n",
       "    </tr>\n",
       "    <tr>\n",
       "      <th>6</th>\n",
       "      <td>Independent</td>\n",
       "      <td>-1.3255e-09</td>\n",
       "      <td>0.122771</td>\n",
       "      <td>independent_X_0_0</td>\n",
       "      <td>independent</td>\n",
       "    </tr>\n",
       "    <tr>\n",
       "      <th>7</th>\n",
       "      <td>Leakage</td>\n",
       "      <td>7.9109e-11</td>\n",
       "      <td>3.85594e-87</td>\n",
       "      <td>cause_X_0_1</td>\n",
       "      <td>cause</td>\n",
       "    </tr>\n",
       "    <tr>\n",
       "      <th>8</th>\n",
       "      <td>No Leakage</td>\n",
       "      <td>-1.51846e-10</td>\n",
       "      <td>3.84869e-87</td>\n",
       "      <td>leak_0_1</td>\n",
       "      <td>leak</td>\n",
       "    </tr>\n",
       "    <tr>\n",
       "      <th>9</th>\n",
       "      <td>Independent</td>\n",
       "      <td>-1.76997e-05</td>\n",
       "      <td>0.185338</td>\n",
       "      <td>independent_X_1_1</td>\n",
       "      <td>independent</td>\n",
       "    </tr>\n",
       "  </tbody>\n",
       "</table>\n",
       "</div>"
      ],
      "text/plain": [
       "     Direction         Rank P_value Independence X and Y               Vars  \\\n",
       "0      Leakage  2.26284e-05                  2.58231e-08        cause_X_0_0   \n",
       "1      Leakage  1.07409e-05                   1.6989e-44        cause_X_1_0   \n",
       "2  Independent  9.38215e-09                     0.693891  independent_X_2_0   \n",
       "3   No Leakage -1.17319e-11                  2.13043e-76           leak_0_0   \n",
       "4      Leakage  1.02178e-12                   2.6294e-70        cause_X_1_0   \n",
       "5      Leakage   1.4754e-13                  2.63461e-70           leak_0_0   \n",
       "6  Independent  -1.3255e-09                     0.122771  independent_X_0_0   \n",
       "7      Leakage   7.9109e-11                  3.85594e-87        cause_X_0_1   \n",
       "8   No Leakage -1.51846e-10                  3.84869e-87           leak_0_1   \n",
       "9  Independent -1.76997e-05                     0.185338  independent_X_1_1   \n",
       "\n",
       "         Truth  \n",
       "0        cause  \n",
       "1        cause  \n",
       "2  independent  \n",
       "3         leak  \n",
       "4        cause  \n",
       "5         leak  \n",
       "6  independent  \n",
       "7        cause  \n",
       "8         leak  \n",
       "9  independent  "
      ]
     },
     "execution_count": 175,
     "metadata": {},
     "output_type": "execute_result"
    }
   ],
   "source": [
    "all_tests"
   ]
  },
  {
   "cell_type": "code",
   "execution_count": 179,
   "metadata": {
    "collapsed": false
   },
   "outputs": [],
   "source": [
    "all_truth = all_tests['Truth'] == 'leak'\n",
    "accuracy_leak = ((all_tests['Direction'] == 'Leakage') & all_truth).sum() / float(all_truth.sum())\n",
    "\n",
    "all_truth = all_tests['Truth'] == 'independent'\n",
    "accuracy_independent = ((all_tests['Direction'] == 'Independent') & all_truth).sum() / float(all_truth.sum())\n",
    "\n",
    "all_truth = (all_tests['Truth'] == 'cause')\n",
    "accuracy_cause = ((all_tests['Direction'] == 'No Leakage') & all_truth).sum() / float(all_truth.sum())"
   ]
  },
  {
   "cell_type": "code",
   "execution_count": 180,
   "metadata": {
    "collapsed": false
   },
   "outputs": [
    {
     "data": {
      "text/plain": [
       "(0.33333333333333331, 1.0, 0.0)"
      ]
     },
     "execution_count": 180,
     "metadata": {},
     "output_type": "execute_result"
    }
   ],
   "source": [
    "accuracy_leak, accuracy_independent, accuracy_cause"
   ]
  },
  {
   "cell_type": "markdown",
   "metadata": {},
   "source": [
    "# Since we know the groun truth, we can test that the errors are independent of the causing variable. This would tell us if the problem in estimation is with the regression or the independence test"
   ]
  },
  {
   "cell_type": "code",
   "execution_count": 61,
   "metadata": {
    "collapsed": false
   },
   "outputs": [],
   "source": [
    "hsic = it.HSIC_b((Y['values'] - all_features['leak_0']['values']).astype('float'), Y['values'].astype('float'))"
   ]
  },
  {
   "cell_type": "code",
   "execution_count": 62,
   "metadata": {
    "collapsed": false,
    "scrolled": true
   },
   "outputs": [
    {
     "data": {
      "text/plain": [
       "2.7476125829033291e-11"
      ]
     },
     "execution_count": 62,
     "metadata": {},
     "output_type": "execute_result"
    }
   ],
   "source": [
    "hsic.empirical_test()"
   ]
  },
  {
   "cell_type": "code",
   "execution_count": 63,
   "metadata": {
    "collapsed": true
   },
   "outputs": [],
   "source": [
    "hsic = it.HSIC_b((Y['values'] - all_features['X_0']['values']).astype('float'), Y['values'].astype('float'))"
   ]
  },
  {
   "cell_type": "code",
   "execution_count": 64,
   "metadata": {
    "collapsed": false
   },
   "outputs": [
    {
     "data": {
      "text/plain": [
       "0.035625346331722825"
      ]
     },
     "execution_count": 64,
     "metadata": {},
     "output_type": "execute_result"
    }
   ],
   "source": [
    "hsic.empirical_test()"
   ]
  },
  {
   "cell_type": "code",
   "execution_count": null,
   "metadata": {
    "collapsed": true
   },
   "outputs": [],
   "source": []
  }
 ],
 "metadata": {
  "anaconda-cloud": {},
  "kernelspec": {
   "display_name": "Python [conda env:inference]",
   "language": "python",
   "name": "conda-env-inference-py"
  },
  "language_info": {
   "codemirror_mode": {
    "name": "ipython",
    "version": 2
   },
   "file_extension": ".py",
   "mimetype": "text/x-python",
   "name": "python",
   "nbconvert_exporter": "python",
   "pygments_lexer": "ipython2",
   "version": "2.7.12"
  }
 },
 "nbformat": 4,
 "nbformat_minor": 1
}
