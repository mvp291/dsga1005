{
 "cells": [
  {
   "cell_type": "code",
   "execution_count": 1,
   "metadata": {
    "collapsed": false
   },
   "outputs": [],
   "source": [
    "import readline\n",
    "import rpy2.robjects\n",
    "import code.independence_test as it\n",
    "import code.additive_noise as an\n",
    "import numpy as np\n",
    "import numpy.random as rn\n",
    "import code.hsic as hs\n",
    "import pandas as pd"
   ]
  },
  {
   "cell_type": "code",
   "execution_count": 2,
   "metadata": {
    "collapsed": false
   },
   "outputs": [],
   "source": [
    "n=500\n",
    "uni = rn.uniform(0,10,n)\n",
    "exp = rn.exponential(7,n)\n",
    "gamma = rn.gamma(10,1,n)\n",
    "log = rn.logistic(10,0.5,n)\n",
    "n_Y = np.random.normal(0,0.4,n)\n",
    "n_L = np.random.normal(0,0.5,n)\n",
    "#Y = uni + exp + gamma + log + n_Y\n",
    "Y = gamma + n_Y\n",
    "leak = Y + n_L"
   ]
  },
  {
   "cell_type": "code",
   "execution_count": 3,
   "metadata": {
    "collapsed": true
   },
   "outputs": [],
   "source": [
    "X = np.stack([gamma, leak, log],axis=1)"
   ]
  },
  {
   "cell_type": "code",
   "execution_count": 4,
   "metadata": {
    "collapsed": false
   },
   "outputs": [],
   "source": [
    "X = pd.DataFrame(X, columns=['cause', 'leak', 'independent'])"
   ]
  },
  {
   "cell_type": "code",
   "execution_count": null,
   "metadata": {
    "collapsed": false
   },
   "outputs": [],
   "source": [
    "an.ANM_algorithm(X,Y, 'r')"
   ]
  }
 ],
 "metadata": {
  "kernelspec": {
   "display_name": "Python [conda env:py2]",
   "language": "python",
   "name": "conda-env-py2-py"
  },
  "language_info": {
   "codemirror_mode": {
    "name": "ipython",
    "version": 2
   },
   "file_extension": ".py",
   "mimetype": "text/x-python",
   "name": "python",
   "nbconvert_exporter": "python",
   "pygments_lexer": "ipython2",
   "version": "2.7.12"
  }
 },
 "nbformat": 4,
 "nbformat_minor": 1
}
