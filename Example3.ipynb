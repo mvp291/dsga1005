{
 "cells": [
  {
   "cell_type": "code",
   "execution_count": 267,
   "metadata": {
    "collapsed": true
   },
   "outputs": [],
   "source": [
    "import readline\n",
    "import rpy2.robjects\n",
    "import code.independence_test as it\n",
    "import code.additive_noise as an\n",
    "import numpy as np\n",
    "import numpy.random as rn\n",
    "import code.hsic as hs\n",
    "import pandas as pd"
   ]
  },
  {
   "cell_type": "code",
   "execution_count": 268,
   "metadata": {
    "collapsed": false
   },
   "outputs": [],
   "source": [
    "n=250\n",
    "cause = rn.uniform(0,10,n)\n",
    "indep = rn.uniform(0,10,n)\n",
    "\n",
    "n_Y = np.random.uniform(-1,1,n)\n",
    "n_L = np.random.uniform(-1,1,n)\n",
    "n_C = np.random.uniform(-1,1,n)"
   ]
  },
  {
   "cell_type": "code",
   "execution_count": 269,
   "metadata": {
    "collapsed": false
   },
   "outputs": [],
   "source": [
    "Y = np.log(cause) + n_Y \n",
    "confounded = np.log(cause) + n_C\n",
    "leaked = Y**2 + n_L\n"
   ]
  },
  {
   "cell_type": "code",
   "execution_count": 270,
   "metadata": {
    "collapsed": false
   },
   "outputs": [],
   "source": [
    "X = np.stack([cause, indep, confounded, leaked],axis=1)\n",
    "X = pd.DataFrame(X, columns=['cause', 'indep', 'confounded', 'leaked'])"
   ]
  },
  {
   "cell_type": "code",
   "execution_count": 271,
   "metadata": {
    "collapsed": false
   },
   "outputs": [
    {
     "data": {
      "text/plain": [
       "array([-1.2285647 ,  0.94596792,  2.13165018,  1.49199779, -0.66854162,\n",
       "        2.56994782,  1.15495431,  2.63818878,  0.33733907,  2.5795691 ])"
      ]
     },
     "execution_count": 271,
     "metadata": {},
     "output_type": "execute_result"
    }
   ],
   "source": [
    "Y[0:10]"
   ]
  },
  {
   "cell_type": "code",
   "execution_count": 272,
   "metadata": {
    "collapsed": false,
    "scrolled": false
   },
   "outputs": [
    {
     "data": {
      "text/html": [
       "<div>\n",
       "<table border=\"1\" class=\"dataframe\">\n",
       "  <thead>\n",
       "    <tr style=\"text-align: right;\">\n",
       "      <th></th>\n",
       "      <th>cause</th>\n",
       "      <th>indep</th>\n",
       "      <th>confounded</th>\n",
       "      <th>leaked</th>\n",
       "    </tr>\n",
       "  </thead>\n",
       "  <tbody>\n",
       "    <tr>\n",
       "      <th>0</th>\n",
       "      <td>0.219043</td>\n",
       "      <td>1.567766</td>\n",
       "      <td>-1.499400</td>\n",
       "      <td>2.130497</td>\n",
       "    </tr>\n",
       "    <tr>\n",
       "      <th>1</th>\n",
       "      <td>3.411820</td>\n",
       "      <td>0.944898</td>\n",
       "      <td>0.737476</td>\n",
       "      <td>0.450120</td>\n",
       "    </tr>\n",
       "    <tr>\n",
       "      <th>2</th>\n",
       "      <td>9.513069</td>\n",
       "      <td>3.038724</td>\n",
       "      <td>3.132322</td>\n",
       "      <td>4.678155</td>\n",
       "    </tr>\n",
       "    <tr>\n",
       "      <th>3</th>\n",
       "      <td>2.386470</td>\n",
       "      <td>1.142832</td>\n",
       "      <td>1.189391</td>\n",
       "      <td>3.099337</td>\n",
       "    </tr>\n",
       "    <tr>\n",
       "      <th>4</th>\n",
       "      <td>0.822754</td>\n",
       "      <td>0.301655</td>\n",
       "      <td>-0.995328</td>\n",
       "      <td>0.406533</td>\n",
       "    </tr>\n",
       "  </tbody>\n",
       "</table>\n",
       "</div>"
      ],
      "text/plain": [
       "      cause     indep  confounded    leaked\n",
       "0  0.219043  1.567766   -1.499400  2.130497\n",
       "1  3.411820  0.944898    0.737476  0.450120\n",
       "2  9.513069  3.038724    3.132322  4.678155\n",
       "3  2.386470  1.142832    1.189391  3.099337\n",
       "4  0.822754  0.301655   -0.995328  0.406533"
      ]
     },
     "execution_count": 272,
     "metadata": {},
     "output_type": "execute_result"
    }
   ],
   "source": [
    "X.head()"
   ]
  },
  {
   "cell_type": "code",
   "execution_count": 273,
   "metadata": {
    "collapsed": false
   },
   "outputs": [
    {
     "name": "stdout",
     "output_type": "stream",
     "text": [
      "Number of line searches 40\n",
      "Number of line searches 40\n",
      "Number of line searches 40\n",
      "Number of line searches 40\n",
      "Number of line searches 40\n",
      "Number of line searches 40\n",
      "['cause'] 2.02022978633e-10\n",
      "['indep'] 1.05073264159e-34\n",
      "['leaked'] 9.37036151922e-39\n",
      "['cause', 'indep'] 3.16233015318e-10\n",
      "['cause', 'leaked'] 7.39449057411e-16\n",
      "['indep', 'leaked'] 6.63048328346e-32\n",
      "['cause', 'indep', 'leaked'] 3.7867038201e-15\n",
      "Number of line searches 40\n",
      "Number of line searches 40\n",
      "['cause'] 2.22298081076e-06\n",
      "['indep'] 6.22865689541e-21\n",
      "['confounded'] 5.54478650181e-22\n",
      "['cause', 'indep'] 2.11216349294e-06\n",
      "['cause', 'confounded'] 6.86366186717e-12\n",
      "['indep', 'confounded'] 2.80908201314e-18\n",
      "['cause', 'indep', 'confounded'] 2.41792446901e-11\n"
     ]
    }
   ],
   "source": [
    "e = an.ANM_algorithm_with_test(X,Y, 'py', test='mi-g-sh')"
   ]
  },
  {
   "cell_type": "code",
   "execution_count": 274,
   "metadata": {
    "collapsed": false
   },
   "outputs": [
    {
     "data": {
      "text/html": [
       "<div>\n",
       "<table border=\"1\" class=\"dataframe\">\n",
       "  <thead>\n",
       "    <tr style=\"text-align: right;\">\n",
       "      <th></th>\n",
       "      <th>Direction</th>\n",
       "      <th>Rank</th>\n",
       "      <th>P_value Independence X and Y</th>\n",
       "    </tr>\n",
       "  </thead>\n",
       "  <tbody>\n",
       "    <tr>\n",
       "      <th>indep</th>\n",
       "      <td>Independent</td>\n",
       "      <td>0.00342176</td>\n",
       "      <td>0.148439</td>\n",
       "    </tr>\n",
       "    <tr>\n",
       "      <th>leaked</th>\n",
       "      <td>Leakage</td>\n",
       "      <td>0.00230293</td>\n",
       "      <td>1.6922e-79</td>\n",
       "    </tr>\n",
       "    <tr>\n",
       "      <th>confounded</th>\n",
       "      <td>Leakage</td>\n",
       "      <td>0.000538001</td>\n",
       "      <td>2.65347e-18</td>\n",
       "    </tr>\n",
       "    <tr>\n",
       "      <th>cause</th>\n",
       "      <td>No Leakage</td>\n",
       "      <td>-0.0132915</td>\n",
       "      <td>4.82163e-36</td>\n",
       "    </tr>\n",
       "  </tbody>\n",
       "</table>\n",
       "</div>"
      ],
      "text/plain": [
       "              Direction         Rank P_value Independence X and Y\n",
       "indep       Independent   0.00342176                     0.148439\n",
       "leaked          Leakage   0.00230293                   1.6922e-79\n",
       "confounded      Leakage  0.000538001                  2.65347e-18\n",
       "cause        No Leakage   -0.0132915                  4.82163e-36"
      ]
     },
     "execution_count": 274,
     "metadata": {},
     "output_type": "execute_result"
    }
   ],
   "source": [
    "e"
   ]
  },
  {
   "cell_type": "code",
   "execution_count": 141,
   "metadata": {
    "collapsed": false
   },
   "outputs": [
    {
     "data": {
      "text/plain": [
       "\"Column: confounded is independent of target given ['cause']\""
      ]
     },
     "execution_count": 141,
     "metadata": {},
     "output_type": "execute_result"
    }
   ],
   "source": [
    "e.ix['confounded'].Direction"
   ]
  },
  {
   "cell_type": "code",
   "execution_count": null,
   "metadata": {
    "collapsed": true
   },
   "outputs": [],
   "source": []
  }
 ],
 "metadata": {
  "anaconda-cloud": {},
  "kernelspec": {
   "display_name": "Python [conda env:py2]",
   "language": "python",
   "name": "conda-env-py2-py"
  },
  "language_info": {
   "codemirror_mode": {
    "name": "ipython",
    "version": 2
   },
   "file_extension": ".py",
   "mimetype": "text/x-python",
   "name": "python",
   "nbconvert_exporter": "python",
   "pygments_lexer": "ipython2",
   "version": "2.7.12"
  }
 },
 "nbformat": 4,
 "nbformat_minor": 1
}
